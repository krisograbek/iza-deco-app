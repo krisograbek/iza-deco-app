{
 "cells": [
  {
   "cell_type": "code",
   "execution_count": 1,
   "metadata": {},
   "outputs": [
    {
     "data": {
      "text/plain": [
       "True"
      ]
     },
     "execution_count": 1,
     "metadata": {},
     "output_type": "execute_result"
    }
   ],
   "source": [
    "from dotenv import load_dotenv\n",
    "\n",
    "load_dotenv()"
   ]
  },
  {
   "cell_type": "markdown",
   "metadata": {},
   "source": [
    "### Encoding Images to base64"
   ]
  },
  {
   "cell_type": "code",
   "execution_count": 2,
   "metadata": {},
   "outputs": [],
   "source": [
    "import base64\n",
    "\n",
    "# Function to encode the image\n",
    "def encode_image(image_path):\n",
    "  with open(image_path, \"rb\") as image_file:\n",
    "    return base64.b64encode(image_file.read()).decode('utf-8')"
   ]
  },
  {
   "cell_type": "code",
   "execution_count": 10,
   "metadata": {},
   "outputs": [],
   "source": [
    "image_path1 = \"images/LivingRoom1.png\"\n",
    "base64_image1 = encode_image(image_path1)\n",
    "\n",
    "image_path2 = \"images/LivingRoom2.png\"\n",
    "base64_image2 = encode_image(image_path2)"
   ]
  },
  {
   "cell_type": "markdown",
   "metadata": {},
   "source": [
    "### Calling GPT4 Vision"
   ]
  },
  {
   "cell_type": "code",
   "execution_count": 30,
   "metadata": {},
   "outputs": [],
   "source": [
    "system_prompt = \"\"\"\n",
    "You are an agent specializing in home decorations and psychology.\n",
    "\n",
    "You will be provided with an image of a room in a home.\n",
    "\n",
    "Based on the image, you will do your best at describing the person living in the home.\n",
    "\n",
    "You will think of the following details:\n",
    "1. What's the taste of the person?\n",
    "2. What's the personality?\n",
    "And similar ones.\n",
    "\n",
    "Then, you create a general picture of the person (or people) and describe it.\n",
    "\n",
    "When listing suggestions always use JSON format.\n",
    "Start the suggestions with ‘```json {’ to produce valid JSON.\n",
    "\n",
    "End the suggestions with '```'\n",
    "\n",
    "\n",
    "\"\"\""
   ]
  },
  {
   "cell_type": "code",
   "execution_count": 33,
   "metadata": {},
   "outputs": [],
   "source": [
    "from openai import OpenAI\n",
    "\n",
    "client = OpenAI()\n",
    "\n",
    "def describe_local_image(image_path):\n",
    "    response = client.chat.completions.create(\n",
    "        model=\"gpt-4-vision-preview\",\n",
    "        messages=[\n",
    "            {\n",
    "                \"role\": \"system\",\n",
    "                \"content\": system_prompt\n",
    "            },\n",
    "            {\n",
    "                \"role\": \"user\",\n",
    "                \"content\": [\n",
    "                    {\"type\": \"text\", \"text\": \"What kind of posters and graphics would you add to this room considering how it looks and the general description of people living there?\"},\n",
    "                    {\"type\": \"image_url\", \"image_url\": {\"url\": f\"data:image/jpeg;base64,{image_path}\"}},\n",
    "                ],\n",
    "            }\n",
    "        ],\n",
    "        max_tokens=512,\n",
    "        # response_format={\"type\": \"json_object\"}\n",
    "    )\n",
    "\n",
    "    return response.choices[0].message.content"
   ]
  },
  {
   "cell_type": "code",
   "execution_count": 34,
   "metadata": {},
   "outputs": [
    {
     "name": "stdout",
     "output_type": "stream",
     "text": [
      "Based on the clean lines, neutral palette, and minimalistic approach of the room, the residents likely appreciate modern, sophisticated, and uncluttered environments. The taste gravitates toward contemporary elegance with perhaps a liking for art or design that speaks through subtlety rather than overt statements. The personality of the inhabitants may be calm, organized, and possibly introverted, enjoying a clutter-free space that creates a peaceful ambiance.\n",
      "\n",
      "To complement this space and align with the resident's possible tastes, I would recommend:\n",
      "\n",
      "```json\n",
      "{\n",
      "  \"Graphics\": [\n",
      "    {\n",
      "      \"Type\": \"Abstract Art\",\n",
      "      \"Details\": \"A piece with a minimalistic design that uses geometric shapes and a limited color palette to accent the simplicity of the room.\"\n",
      "    },\n",
      "    {\n",
      "      \"Type\": \"Black and White Photography\",\n",
      "      \"Details\": \"High-contrast images that can range from architectural photography to nature. This would add a touch of sophistication without overwhelming the space with color.\"\n",
      "    },\n",
      "    {\n",
      "      \"Type\": \"Modern Sculpture Prints\",\n",
      "      \"Details\": \"Posters of famous modern sculptures could add a new depth to the room's aesthetic without clashing with the existing decor.\"\n",
      "    },\n",
      "    {\n",
      "      \"Type\": \"Subtle Typography\",\n",
      "      \"Details\": \"Consider selecting a piece with a motivational quote in a simple, elegant font. The content of the typography should reflect a serene and thoughtful vibe.\"\n",
      "    },\n",
      "    {\n",
      "      \"Type\": \"Monochrome Paintings\",\n",
      "      \"Details\": \"Art pieces featuring a single color or varying shades of one color could smoothly integrate with the room's color scheme.\"\n",
      "    }\n",
      "  ]\n",
      "}\n",
      "``` \n",
      "\n",
      "The artwork chosen should maintain the balance of the room, ensuring that it does not become too busy or detracts from the intended tranquil atmosphere.\n"
     ]
    }
   ],
   "source": [
    "print(describe_local_image(base64_image2))"
   ]
  },
  {
   "cell_type": "code",
   "execution_count": null,
   "metadata": {},
   "outputs": [],
   "source": []
  }
 ],
 "metadata": {
  "kernelspec": {
   "display_name": "venv",
   "language": "python",
   "name": "python3"
  },
  "language_info": {
   "codemirror_mode": {
    "name": "ipython",
    "version": 3
   },
   "file_extension": ".py",
   "mimetype": "text/x-python",
   "name": "python",
   "nbconvert_exporter": "python",
   "pygments_lexer": "ipython3",
   "version": "3.9.12"
  }
 },
 "nbformat": 4,
 "nbformat_minor": 2
}
